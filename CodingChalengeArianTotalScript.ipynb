{
 "cells": [
  {
   "cell_type": "code",
   "execution_count": 6,
   "metadata": {
    "collapsed": true
   },
   "outputs": [],
   "source": [
    "#import numpy as np\n",
    "import os.path\n",
    "import json\n",
    "import collections\n",
    "import datetime\n",
    "from statistics import median \n",
    "\n",
    "fpath = os.path.join(\"venmo_input\", \"venmo-trans.txt\")\n",
    "opath = os.path.join(\"venmo_output\", \"output.txt\")\n",
    "#open(fpath).readlines()[:4]\n",
    "\n",
    "json_data=open(fpath).readline()\n",
    "data = json.loads(json_data)\n",
    "\n",
    "maxtimestamp=datetime.datetime(1, 1, 1, 1, 1, 1)\n",
    "datehv1=data['created_time'].replace('T', ' ')\n",
    "datahv2=datehv1.replace('Z', '')\n",
    "transdatetime=datetime.datetime.strptime(datahv2, \"%Y-%m-%d %H:%M:%S\")\n",
    "\n",
    "TranLast60 =[]\n",
    "outfile=open(opath,'w')\n",
    "outfile.close()\n",
    "\n",
    "meddegreetime=[]\n",
    "outfile=open(opath,'w')\n",
    "maxtimestamp=datetime.datetime(1, 1, 1, 1, 1, 1)\n",
    "for line in open(fpath):\n",
    "    data = json.loads(line)\n",
    "    datehv1=data['created_time'].replace('T', ' ')\n",
    "    datahv2=datehv1.replace('Z', '')\n",
    "    transdatetime=datetime.datetime.strptime(datahv2, \"%Y-%m-%d %H:%M:%S\")\n",
    "    if data['actor']!='' and data['target']!='' and data['created_time']!='':\n",
    "        TranLast60.append([transdatetime,data['actor'],data['target']])\n",
    "        if transdatetime>maxtimestamp:\n",
    "            maxtimestamp=transdatetime\n",
    "    else:\n",
    "        print('one transaction at ',data['created_time'],' ignored due to curropted data')\n",
    "\n",
    "    # This part filter the transactions\n",
    "    FilteredTranLast60=[]\n",
    "    for recordind, recordvalue in enumerate(TranLast60):\n",
    "           if not (TranLast60[recordind][0]-maxtimestamp)> datetime.timedelta(seconds=60) and not (maxtimestamp-TranLast60[recordind][0])> datetime.timedelta(seconds=60):\n",
    "                FilteredTranLast60.append(TranLast60[recordind])\n",
    "    TranLast60=FilteredTranLast60\n",
    "    \n",
    "    \n",
    "    #for recordind, recordvalue in enumerate(TranLast60):\n",
    "    #    if (TranLast60[recordind][0]-maxtimestamp)> datetime.timedelta(seconds=60) or (maxtimestamp-TranLast60[recordind][0])> datetime.timedelta(seconds=60):\n",
    "    #        TranLast60.pop(recordind)\n",
    "    \n",
    "    graph=collections.defaultdict(list)\n",
    "    for recordind, recordvalue in enumerate(TranLast60):\n",
    "        graph[TranLast60[recordind][1]].append(TranLast60[recordind][2])\n",
    "        graph[TranLast60[recordind][2]].append(TranLast60[recordind][1])\n",
    "    \n",
    "    degree={}\n",
    "    for key in graph:\n",
    "        if len(list(set(graph[key])))>0:\n",
    "            degree[key]=len(list(set(graph[key])))\n",
    "    currentmeddegree=median(sorted(degree.values()))  \n",
    "    outfile.write(str(currentmeddegree)+'\\n')\n",
    "    meddegreetime.append(currentmeddegree)\n",
    "outfile.close()    "
   ]
  },
  {
   "cell_type": "code",
   "execution_count": null,
   "metadata": {
    "collapsed": true
   },
   "outputs": [],
   "source": []
  }
 ],
 "metadata": {
  "anaconda-cloud": {},
  "kernelspec": {
   "display_name": "Python [Root]",
   "language": "python",
   "name": "Python [Root]"
  },
  "language_info": {
   "codemirror_mode": {
    "name": "ipython",
    "version": 3
   },
   "file_extension": ".py",
   "mimetype": "text/x-python",
   "name": "python",
   "nbconvert_exporter": "python",
   "pygments_lexer": "ipython3",
   "version": "3.5.1"
  }
 },
 "nbformat": 4,
 "nbformat_minor": 0
}
